{
 "cells": [
  {
   "cell_type": "code",
   "execution_count": 124,
   "id": "0af8ecea",
   "metadata": {},
   "outputs": [],
   "source": [
    "import pandas as pd\n",
    "import numpy as np\n",
    "import matplotlib.pyplot as plt"
   ]
  },
  {
   "cell_type": "code",
   "execution_count": 125,
   "id": "95464ef0",
   "metadata": {},
   "outputs": [
    {
     "data": {
      "text/html": [
       "<div>\n",
       "<style scoped>\n",
       "    .dataframe tbody tr th:only-of-type {\n",
       "        vertical-align: middle;\n",
       "    }\n",
       "\n",
       "    .dataframe tbody tr th {\n",
       "        vertical-align: top;\n",
       "    }\n",
       "\n",
       "    .dataframe thead th {\n",
       "        text-align: right;\n",
       "    }\n",
       "</style>\n",
       "<table border=\"1\" class=\"dataframe\">\n",
       "  <thead>\n",
       "    <tr style=\"text-align: right;\">\n",
       "      <th></th>\n",
       "      <th>Ship Mode</th>\n",
       "      <th>Segment</th>\n",
       "      <th>Country</th>\n",
       "      <th>City</th>\n",
       "      <th>State</th>\n",
       "      <th>Postal Code</th>\n",
       "      <th>Region</th>\n",
       "      <th>Category</th>\n",
       "      <th>Sub-Category</th>\n",
       "      <th>Sales</th>\n",
       "      <th>Quantity</th>\n",
       "      <th>Discount</th>\n",
       "      <th>Profit</th>\n",
       "    </tr>\n",
       "  </thead>\n",
       "  <tbody>\n",
       "    <tr>\n",
       "      <th>0</th>\n",
       "      <td>Second Class</td>\n",
       "      <td>Consumer</td>\n",
       "      <td>United States</td>\n",
       "      <td>Henderson</td>\n",
       "      <td>Kentucky</td>\n",
       "      <td>42420</td>\n",
       "      <td>South</td>\n",
       "      <td>Furniture</td>\n",
       "      <td>Bookcases</td>\n",
       "      <td>261.9600</td>\n",
       "      <td>2</td>\n",
       "      <td>0.00</td>\n",
       "      <td>41.9136</td>\n",
       "    </tr>\n",
       "    <tr>\n",
       "      <th>1</th>\n",
       "      <td>Second Class</td>\n",
       "      <td>Consumer</td>\n",
       "      <td>United States</td>\n",
       "      <td>Henderson</td>\n",
       "      <td>Kentucky</td>\n",
       "      <td>42420</td>\n",
       "      <td>South</td>\n",
       "      <td>Furniture</td>\n",
       "      <td>Chairs</td>\n",
       "      <td>731.9400</td>\n",
       "      <td>3</td>\n",
       "      <td>0.00</td>\n",
       "      <td>219.5820</td>\n",
       "    </tr>\n",
       "    <tr>\n",
       "      <th>2</th>\n",
       "      <td>Second Class</td>\n",
       "      <td>Corporate</td>\n",
       "      <td>United States</td>\n",
       "      <td>Los Angeles</td>\n",
       "      <td>California</td>\n",
       "      <td>90036</td>\n",
       "      <td>West</td>\n",
       "      <td>Office Supplies</td>\n",
       "      <td>Labels</td>\n",
       "      <td>14.6200</td>\n",
       "      <td>2</td>\n",
       "      <td>0.00</td>\n",
       "      <td>6.8714</td>\n",
       "    </tr>\n",
       "    <tr>\n",
       "      <th>3</th>\n",
       "      <td>Standard Class</td>\n",
       "      <td>Consumer</td>\n",
       "      <td>United States</td>\n",
       "      <td>Fort Lauderdale</td>\n",
       "      <td>Florida</td>\n",
       "      <td>33311</td>\n",
       "      <td>South</td>\n",
       "      <td>Furniture</td>\n",
       "      <td>Tables</td>\n",
       "      <td>957.5775</td>\n",
       "      <td>5</td>\n",
       "      <td>0.45</td>\n",
       "      <td>-383.0310</td>\n",
       "    </tr>\n",
       "    <tr>\n",
       "      <th>4</th>\n",
       "      <td>Standard Class</td>\n",
       "      <td>Consumer</td>\n",
       "      <td>United States</td>\n",
       "      <td>Fort Lauderdale</td>\n",
       "      <td>Florida</td>\n",
       "      <td>33311</td>\n",
       "      <td>South</td>\n",
       "      <td>Office Supplies</td>\n",
       "      <td>Storage</td>\n",
       "      <td>22.3680</td>\n",
       "      <td>2</td>\n",
       "      <td>0.20</td>\n",
       "      <td>2.5164</td>\n",
       "    </tr>\n",
       "  </tbody>\n",
       "</table>\n",
       "</div>"
      ],
      "text/plain": [
       "        Ship Mode    Segment        Country             City       State  \\\n",
       "0    Second Class   Consumer  United States        Henderson    Kentucky   \n",
       "1    Second Class   Consumer  United States        Henderson    Kentucky   \n",
       "2    Second Class  Corporate  United States      Los Angeles  California   \n",
       "3  Standard Class   Consumer  United States  Fort Lauderdale     Florida   \n",
       "4  Standard Class   Consumer  United States  Fort Lauderdale     Florida   \n",
       "\n",
       "   Postal Code Region         Category Sub-Category     Sales  Quantity  \\\n",
       "0        42420  South        Furniture    Bookcases  261.9600         2   \n",
       "1        42420  South        Furniture       Chairs  731.9400         3   \n",
       "2        90036   West  Office Supplies       Labels   14.6200         2   \n",
       "3        33311  South        Furniture       Tables  957.5775         5   \n",
       "4        33311  South  Office Supplies      Storage   22.3680         2   \n",
       "\n",
       "   Discount    Profit  \n",
       "0      0.00   41.9136  \n",
       "1      0.00  219.5820  \n",
       "2      0.00    6.8714  \n",
       "3      0.45 -383.0310  \n",
       "4      0.20    2.5164  "
      ]
     },
     "execution_count": 125,
     "metadata": {},
     "output_type": "execute_result"
    }
   ],
   "source": [
    "#importing the csv file\n",
    "\n",
    "df = pd.read_csv(\"SampleSuperstore.csv\")\n",
    "df.head()"
   ]
  },
  {
   "cell_type": "code",
   "execution_count": 126,
   "id": "05dc905b",
   "metadata": {},
   "outputs": [
    {
     "name": "stdout",
     "output_type": "stream",
     "text": [
      "<class 'pandas.core.frame.DataFrame'>\n",
      "RangeIndex: 9994 entries, 0 to 9993\n",
      "Data columns (total 13 columns):\n",
      " #   Column        Non-Null Count  Dtype  \n",
      "---  ------        --------------  -----  \n",
      " 0   Ship Mode     9994 non-null   object \n",
      " 1   Segment       9994 non-null   object \n",
      " 2   Country       9994 non-null   object \n",
      " 3   City          9994 non-null   object \n",
      " 4   State         9994 non-null   object \n",
      " 5   Postal Code   9994 non-null   int64  \n",
      " 6   Region        9994 non-null   object \n",
      " 7   Category      9994 non-null   object \n",
      " 8   Sub-Category  9994 non-null   object \n",
      " 9   Sales         9994 non-null   float64\n",
      " 10  Quantity      9994 non-null   int64  \n",
      " 11  Discount      9994 non-null   float64\n",
      " 12  Profit        9994 non-null   float64\n",
      "dtypes: float64(3), int64(2), object(8)\n",
      "memory usage: 1015.1+ KB\n"
     ]
    }
   ],
   "source": [
    "df.info()"
   ]
  },
  {
   "cell_type": "code",
   "execution_count": 127,
   "id": "7458b758",
   "metadata": {},
   "outputs": [
    {
     "data": {
      "text/plain": [
       "Ship Mode       0\n",
       "Segment         0\n",
       "Country         0\n",
       "City            0\n",
       "State           0\n",
       "Postal Code     0\n",
       "Region          0\n",
       "Category        0\n",
       "Sub-Category    0\n",
       "Sales           0\n",
       "Quantity        0\n",
       "Discount        0\n",
       "Profit          0\n",
       "dtype: int64"
      ]
     },
     "execution_count": 127,
     "metadata": {},
     "output_type": "execute_result"
    }
   ],
   "source": [
    "#1. cleaning data\n",
    "#checking for null values\n",
    "df.isnull().sum()"
   ]
  },
  {
   "cell_type": "code",
   "execution_count": 128,
   "id": "0db99b02",
   "metadata": {},
   "outputs": [],
   "source": [
    "#INFERENCE: No null value found "
   ]
  },
  {
   "cell_type": "code",
   "execution_count": 129,
   "id": "8dc74e3f",
   "metadata": {},
   "outputs": [],
   "source": [
    "#2. Which city has hightest number of sale counts recorded"
   ]
  },
  {
   "cell_type": "code",
   "execution_count": 130,
   "id": "71403108",
   "metadata": {},
   "outputs": [
    {
     "data": {
      "text/plain": [
       "City\n",
       "New York City    915\n",
       "Los Angeles      747\n",
       "Philadelphia     537\n",
       "San Francisco    510\n",
       "Seattle          428\n",
       "Houston          377\n",
       "Chicago          314\n",
       "Columbus         222\n",
       "San Diego        170\n",
       "Springfield      163\n",
       "Dallas           157\n",
       "Jacksonville     125\n",
       "Detroit          115\n",
       "Newark            95\n",
       "Richmond          90\n",
       "Jackson           82\n",
       "Columbia          81\n",
       "Aurora            68\n",
       "Phoenix           63\n",
       "Long Beach        61\n",
       "Name: Sales, dtype: int64"
      ]
     },
     "execution_count": 130,
     "metadata": {},
     "output_type": "execute_result"
    }
   ],
   "source": [
    "g = df.groupby('City').count().sort_values(by=['Sales'],ascending=False)['Sales']\n",
    "g.head(20)"
   ]
  },
  {
   "cell_type": "code",
   "execution_count": 131,
   "id": "f7bcf288",
   "metadata": {},
   "outputs": [
    {
     "data": {
      "image/png": "[encoded data removed]",
      "text/plain": [
       "<Figure size 432x288 with 1 Axes>"
      ]
     },
     "metadata": {
      "needs_background": "light"
     },
     "output_type": "display_data"
    },
    {
     "data": {
      "text/plain": [
       "<Figure size 720x576 with 0 Axes>"
      ]
     },
     "metadata": {},
     "output_type": "display_data"
    }
   ],
   "source": [
    "df['City'].value_counts()[:20].plot(kind='barh')\n",
    "plt.title('Cities with highest number of sales')\n",
    "plt.xlabel('Number of Sales')\n",
    "plt.legend()\n",
    "plt.figure(figsize=(10,8))\n",
    "plt.show()\n",
    "#INFERENCE: New York Records the highest sales occurances"
   ]
  },
  {
   "cell_type": "code",
   "execution_count": 132,
   "id": "3c7d454f",
   "metadata": {},
   "outputs": [],
   "source": [
    "#3. Find the cities generating profits and cities generating losses"
   ]
  },
  {
   "cell_type": "code",
   "execution_count": 133,
   "id": "6aa1b971",
   "metadata": {},
   "outputs": [
    {
     "name": "stdout",
     "output_type": "stream",
     "text": [
      "Number of Cities with Positive Profit: 415\n",
      "Number of Cities with Negative Profit: 116\n",
      "\n",
      "Percentage of Cities with Positive Profit: 78.15%\n",
      "Percentage of Cities with Negative Profit: 21.85%\n",
      "\n"
     ]
    },
    {
     "data": {
      "text/plain": [
       "'Mean profit of Detroit is 114.62'"
      ]
     },
     "execution_count": 133,
     "metadata": {},
     "output_type": "execute_result"
    }
   ],
   "source": [
    "pos_prof = []\n",
    "neg_prof = []\n",
    "cities_prof = dict()\n",
    "\n",
    "for city in df['City'].unique():\n",
    "    # considering the average profit of all the instances of the city\n",
    "    mean_prof = df['Profit'][df['City'] == city].mean()\n",
    "    cities_prof[city] = mean_prof\n",
    "    if mean_prof <= 0:\n",
    "        neg_prof.append(city)\n",
    "    else:\n",
    "        pos_prof.append(city)\n",
    "        \n",
    "\n",
    "total_cities = df['City'].unique().shape[0]\n",
    " \n",
    "print(f\"Number of Cities with Positive Profit: {len(pos_prof)}\")\n",
    "print(f\"Number of Cities with Negative Profit: {len(neg_prof)}\")\n",
    "print()\n",
    "print(f\"Percentage of Cities with Positive Profit: {round((len(pos_prof)/total_cities)*100, 2)}%\")\n",
    "print(f\"Percentage of Cities with Negative Profit: {round((len(neg_prof)/total_cities)*100, 2)}%\")\n",
    "print()\n",
    "\n",
    "def get_mean_profit_of_city(city):\n",
    "    for key, value in cities_prof.items():\n",
    "        if key == city:\n",
    "            return f\"Mean profit of {key} is {round(value, 2)}\"\n",
    "    return f\"{city} is not found in the sales data!\"\n",
    "\n",
    "get_mean_profit_of_city(\"Detroit\")\n",
    "\n",
    "#INFERECE: 78.15% of the Cities in the distribution chain had positive profit whereas 21.85% of the cities returned negative profit"
   ]
  },
  {
   "cell_type": "code",
   "execution_count": 134,
   "id": "d92b27d7",
   "metadata": {},
   "outputs": [
    {
     "data": {
      "image/png": "[encoded data removed]",
      "text/plain": [
       "<Figure size 432x288 with 1 Axes>"
      ]
     },
     "metadata": {},
     "output_type": "display_data"
    }
   ],
   "source": [
    "plt.pie([round((len(pos_prof)/total_cities)*100, 2), round((len(neg_prof)/total_cities)*100, 2)], labels=['Cities with Profit', 'Cities with Loss'], autopct='%1.2f%%' )\n",
    "plt.show()"
   ]
  },
  {
   "cell_type": "code",
   "execution_count": 135,
   "id": "6f94dc81",
   "metadata": {},
   "outputs": [],
   "source": [
    "#4. Find the Top cities with maximum profit and maximum losses"
   ]
  },
  {
   "cell_type": "code",
   "execution_count": 136,
   "id": "a6b378cb",
   "metadata": {},
   "outputs": [
    {
     "data": {
      "text/html": [
       "<div>\n",
       "<style scoped>\n",
       "    .dataframe tbody tr th:only-of-type {\n",
       "        vertical-align: middle;\n",
       "    }\n",
       "\n",
       "    .dataframe tbody tr th {\n",
       "        vertical-align: top;\n",
       "    }\n",
       "\n",
       "    .dataframe thead th {\n",
       "        text-align: right;\n",
       "    }\n",
       "</style>\n",
       "<table border=\"1\" class=\"dataframe\">\n",
       "  <thead>\n",
       "    <tr style=\"text-align: right;\">\n",
       "      <th></th>\n",
       "      <th>city</th>\n",
       "      <th>Profit</th>\n",
       "    </tr>\n",
       "  </thead>\n",
       "  <tbody>\n",
       "    <tr>\n",
       "      <th>312</th>\n",
       "      <td>Jamestown</td>\n",
       "      <td>642.885750</td>\n",
       "    </tr>\n",
       "    <tr>\n",
       "      <th>44</th>\n",
       "      <td>Independence</td>\n",
       "      <td>487.831500</td>\n",
       "    </tr>\n",
       "    <tr>\n",
       "      <th>240</th>\n",
       "      <td>Lafayette</td>\n",
       "      <td>323.173794</td>\n",
       "    </tr>\n",
       "    <tr>\n",
       "      <th>31</th>\n",
       "      <td>Minneapolis</td>\n",
       "      <td>296.721070</td>\n",
       "    </tr>\n",
       "    <tr>\n",
       "      <th>233</th>\n",
       "      <td>Appleton</td>\n",
       "      <td>277.383150</td>\n",
       "    </tr>\n",
       "    <tr>\n",
       "      <th>73</th>\n",
       "      <td>Morristown</td>\n",
       "      <td>262.603871</td>\n",
       "    </tr>\n",
       "    <tr>\n",
       "      <th>493</th>\n",
       "      <td>Burbank</td>\n",
       "      <td>254.844600</td>\n",
       "    </tr>\n",
       "    <tr>\n",
       "      <th>427</th>\n",
       "      <td>Lehi</td>\n",
       "      <td>225.831300</td>\n",
       "    </tr>\n",
       "    <tr>\n",
       "      <th>473</th>\n",
       "      <td>Beverly</td>\n",
       "      <td>218.306467</td>\n",
       "    </tr>\n",
       "    <tr>\n",
       "      <th>99</th>\n",
       "      <td>Warwick</td>\n",
       "      <td>212.759120</td>\n",
       "    </tr>\n",
       "    <tr>\n",
       "      <th>317</th>\n",
       "      <td>Bellingham</td>\n",
       "      <td>203.530267</td>\n",
       "    </tr>\n",
       "    <tr>\n",
       "      <th>120</th>\n",
       "      <td>Great Falls</td>\n",
       "      <td>197.838388</td>\n",
       "    </tr>\n",
       "    <tr>\n",
       "      <th>216</th>\n",
       "      <td>Mobile</td>\n",
       "      <td>197.802655</td>\n",
       "    </tr>\n",
       "    <tr>\n",
       "      <th>297</th>\n",
       "      <td>Midland</td>\n",
       "      <td>191.140233</td>\n",
       "    </tr>\n",
       "    <tr>\n",
       "      <th>181</th>\n",
       "      <td>Yonkers</td>\n",
       "      <td>184.517047</td>\n",
       "    </tr>\n",
       "    <tr>\n",
       "      <th>118</th>\n",
       "      <td>Atlanta</td>\n",
       "      <td>179.324690</td>\n",
       "    </tr>\n",
       "    <tr>\n",
       "      <th>205</th>\n",
       "      <td>Providence</td>\n",
       "      <td>177.601835</td>\n",
       "    </tr>\n",
       "    <tr>\n",
       "      <th>362</th>\n",
       "      <td>Dubuque</td>\n",
       "      <td>159.224800</td>\n",
       "    </tr>\n",
       "    <tr>\n",
       "      <th>301</th>\n",
       "      <td>Sacramento</td>\n",
       "      <td>159.206608</td>\n",
       "    </tr>\n",
       "    <tr>\n",
       "      <th>367</th>\n",
       "      <td>Saint Cloud</td>\n",
       "      <td>156.538000</td>\n",
       "    </tr>\n",
       "  </tbody>\n",
       "</table>\n",
       "</div>"
      ],
      "text/plain": [
       "             city      Profit\n",
       "312     Jamestown  642.885750\n",
       "44   Independence  487.831500\n",
       "240     Lafayette  323.173794\n",
       "31    Minneapolis  296.721070\n",
       "233      Appleton  277.383150\n",
       "73     Morristown  262.603871\n",
       "493       Burbank  254.844600\n",
       "427          Lehi  225.831300\n",
       "473       Beverly  218.306467\n",
       "99        Warwick  212.759120\n",
       "317    Bellingham  203.530267\n",
       "120   Great Falls  197.838388\n",
       "216        Mobile  197.802655\n",
       "297       Midland  191.140233\n",
       "181       Yonkers  184.517047\n",
       "118       Atlanta  179.324690\n",
       "205    Providence  177.601835\n",
       "362       Dubuque  159.224800\n",
       "301    Sacramento  159.206608\n",
       "367   Saint Cloud  156.538000"
      ]
     },
     "execution_count": 136,
     "metadata": {},
     "output_type": "execute_result"
    }
   ],
   "source": [
    "df_prof = pd.DataFrame(list(cities_prof.items()), columns=['city','Profit'])\n",
    "df_prof.sort_values(by=['Profit'], ascending=False, inplace=True)\n",
    "df_prof.head(20) #Top 20 Most profitable cities based on average"
   ]
  },
  {
   "cell_type": "code",
   "execution_count": 137,
   "id": "4fd166ab",
   "metadata": {},
   "outputs": [
    {
     "data": {
      "image/png": "[encoded data removed]",
      "text/plain": [
       "<Figure size 432x288 with 1 Axes>"
      ]
     },
     "metadata": {
      "needs_background": "light"
     },
     "output_type": "display_data"
    },
    {
     "data": {
      "text/plain": [
       "<Figure size 720x576 with 0 Axes>"
      ]
     },
     "metadata": {},
     "output_type": "display_data"
    }
   ],
   "source": [
    "plt.barh(df_prof['city'].head(20), df_prof['Profit'].head(20))\n",
    "plt.title('Cities with highest Average Profits')\n",
    "plt.xlabel('Average Sales Figures')\n",
    "plt.figure(figsize=(10,8))\n",
    "plt.show()"
   ]
  },
  {
   "cell_type": "code",
   "execution_count": 138,
   "id": "588b38f9",
   "metadata": {},
   "outputs": [
    {
     "data": {
      "text/html": [
       "<div>\n",
       "<style scoped>\n",
       "    .dataframe tbody tr th:only-of-type {\n",
       "        vertical-align: middle;\n",
       "    }\n",
       "\n",
       "    .dataframe tbody tr th {\n",
       "        vertical-align: top;\n",
       "    }\n",
       "\n",
       "    .dataframe thead th {\n",
       "        text-align: right;\n",
       "    }\n",
       "</style>\n",
       "<table border=\"1\" class=\"dataframe\">\n",
       "  <thead>\n",
       "    <tr style=\"text-align: right;\">\n",
       "      <th></th>\n",
       "      <th>city</th>\n",
       "      <th>Profit</th>\n",
       "    </tr>\n",
       "  </thead>\n",
       "  <tbody>\n",
       "    <tr>\n",
       "      <th>89</th>\n",
       "      <td>Austin</td>\n",
       "      <td>-0.522918</td>\n",
       "    </tr>\n",
       "    <tr>\n",
       "      <th>365</th>\n",
       "      <td>Hickory</td>\n",
       "      <td>-0.547800</td>\n",
       "    </tr>\n",
       "    <tr>\n",
       "      <th>376</th>\n",
       "      <td>Altoona</td>\n",
       "      <td>-0.591750</td>\n",
       "    </tr>\n",
       "    <tr>\n",
       "      <th>348</th>\n",
       "      <td>Bolingbrook</td>\n",
       "      <td>-0.776833</td>\n",
       "    </tr>\n",
       "    <tr>\n",
       "      <th>512</th>\n",
       "      <td>Elyria</td>\n",
       "      <td>-1.398400</td>\n",
       "    </tr>\n",
       "    <tr>\n",
       "      <th>530</th>\n",
       "      <td>Mason</td>\n",
       "      <td>-1.411733</td>\n",
       "    </tr>\n",
       "    <tr>\n",
       "      <th>424</th>\n",
       "      <td>Pensacola</td>\n",
       "      <td>-1.476000</td>\n",
       "    </tr>\n",
       "    <tr>\n",
       "      <th>281</th>\n",
       "      <td>Ormond Beach</td>\n",
       "      <td>-1.965600</td>\n",
       "    </tr>\n",
       "    <tr>\n",
       "      <th>210</th>\n",
       "      <td>Freeport</td>\n",
       "      <td>-2.008800</td>\n",
       "    </tr>\n",
       "    <tr>\n",
       "      <th>93</th>\n",
       "      <td>Tucson</td>\n",
       "      <td>-2.030213</td>\n",
       "    </tr>\n",
       "    <tr>\n",
       "      <th>57</th>\n",
       "      <td>Hamilton</td>\n",
       "      <td>-2.346250</td>\n",
       "    </tr>\n",
       "    <tr>\n",
       "      <th>481</th>\n",
       "      <td>Wilson</td>\n",
       "      <td>-2.389333</td>\n",
       "    </tr>\n",
       "    <tr>\n",
       "      <th>107</th>\n",
       "      <td>Gastonia</td>\n",
       "      <td>-3.685900</td>\n",
       "    </tr>\n",
       "    <tr>\n",
       "      <th>488</th>\n",
       "      <td>Abilene</td>\n",
       "      <td>-3.758400</td>\n",
       "    </tr>\n",
       "    <tr>\n",
       "      <th>191</th>\n",
       "      <td>Cuyahoga Falls</td>\n",
       "      <td>-4.191733</td>\n",
       "    </tr>\n",
       "    <tr>\n",
       "      <th>128</th>\n",
       "      <td>Laredo</td>\n",
       "      <td>-4.201069</td>\n",
       "    </tr>\n",
       "    <tr>\n",
       "      <th>509</th>\n",
       "      <td>San Marcos</td>\n",
       "      <td>-4.835325</td>\n",
       "    </tr>\n",
       "    <tr>\n",
       "      <th>95</th>\n",
       "      <td>Pembroke Pines</td>\n",
       "      <td>-5.174936</td>\n",
       "    </tr>\n",
       "    <tr>\n",
       "      <th>425</th>\n",
       "      <td>League City</td>\n",
       "      <td>-5.224983</td>\n",
       "    </tr>\n",
       "    <tr>\n",
       "      <th>331</th>\n",
       "      <td>Corpus Christi</td>\n",
       "      <td>-5.466300</td>\n",
       "    </tr>\n",
       "  </tbody>\n",
       "</table>\n",
       "</div>"
      ],
      "text/plain": [
       "               city    Profit\n",
       "89           Austin -0.522918\n",
       "365         Hickory -0.547800\n",
       "376         Altoona -0.591750\n",
       "348     Bolingbrook -0.776833\n",
       "512          Elyria -1.398400\n",
       "530           Mason -1.411733\n",
       "424       Pensacola -1.476000\n",
       "281    Ormond Beach -1.965600\n",
       "210        Freeport -2.008800\n",
       "93           Tucson -2.030213\n",
       "57         Hamilton -2.346250\n",
       "481          Wilson -2.389333\n",
       "107        Gastonia -3.685900\n",
       "488         Abilene -3.758400\n",
       "191  Cuyahoga Falls -4.191733\n",
       "128          Laredo -4.201069\n",
       "509      San Marcos -4.835325\n",
       "95   Pembroke Pines -5.174936\n",
       "425     League City -5.224983\n",
       "331  Corpus Christi -5.466300"
      ]
     },
     "execution_count": 138,
     "metadata": {},
     "output_type": "execute_result"
    }
   ],
   "source": [
    "df_prof = df_prof[df_prof['Profit']<=0]\n",
    "df_prof.sort_values(by=['Profit'], ascending=False, inplace=True)\n",
    "df_prof.head(20) #Top 10 least loss yielding cities on average"
   ]
  },
  {
   "cell_type": "code",
   "execution_count": 139,
   "id": "980e72e2",
   "metadata": {},
   "outputs": [
    {
     "data": {
      "image/png": "[encoded data removed]",
      "text/plain": [
       "<Figure size 432x288 with 1 Axes>"
      ]
     },
     "metadata": {
      "needs_background": "light"
     },
     "output_type": "display_data"
    },
    {
     "data": {
      "text/plain": [
       "<Figure size 720x576 with 0 Axes>"
      ]
     },
     "metadata": {},
     "output_type": "display_data"
    }
   ],
   "source": [
    "plt.barh(df_prof['city'].head(20), df_prof['Profit'].head(20))\n",
    "plt.title('Cities with highest Average Loss')\n",
    "plt.xlabel('Average Sales Figures')\n",
    "plt.figure(figsize=(10,8))\n",
    "plt.show()"
   ]
  },
  {
   "cell_type": "code",
   "execution_count": 140,
   "id": "4ebc840e",
   "metadata": {},
   "outputs": [
    {
     "data": {
      "text/html": [
       "<div>\n",
       "<style scoped>\n",
       "    .dataframe tbody tr th:only-of-type {\n",
       "        vertical-align: middle;\n",
       "    }\n",
       "\n",
       "    .dataframe tbody tr th {\n",
       "        vertical-align: top;\n",
       "    }\n",
       "\n",
       "    .dataframe thead th {\n",
       "        text-align: right;\n",
       "    }\n",
       "</style>\n",
       "<table border=\"1\" class=\"dataframe\">\n",
       "  <thead>\n",
       "    <tr style=\"text-align: right;\">\n",
       "      <th></th>\n",
       "      <th>city</th>\n",
       "      <th>Profit</th>\n",
       "    </tr>\n",
       "  </thead>\n",
       "  <tbody>\n",
       "    <tr>\n",
       "      <th>437</th>\n",
       "      <td>Bethlehem</td>\n",
       "      <td>-200.619160</td>\n",
       "    </tr>\n",
       "    <tr>\n",
       "      <th>378</th>\n",
       "      <td>Champaign</td>\n",
       "      <td>-182.352000</td>\n",
       "    </tr>\n",
       "    <tr>\n",
       "      <th>524</th>\n",
       "      <td>Oswego</td>\n",
       "      <td>-178.709200</td>\n",
       "    </tr>\n",
       "    <tr>\n",
       "      <th>171</th>\n",
       "      <td>Round Rock</td>\n",
       "      <td>-169.061614</td>\n",
       "    </tr>\n",
       "    <tr>\n",
       "      <th>152</th>\n",
       "      <td>Lancaster</td>\n",
       "      <td>-157.371052</td>\n",
       "    </tr>\n",
       "    <tr>\n",
       "      <th>300</th>\n",
       "      <td>Clarksville</td>\n",
       "      <td>-150.764743</td>\n",
       "    </tr>\n",
       "    <tr>\n",
       "      <th>64</th>\n",
       "      <td>Medina</td>\n",
       "      <td>-149.227178</td>\n",
       "    </tr>\n",
       "    <tr>\n",
       "      <th>140</th>\n",
       "      <td>Burlington</td>\n",
       "      <td>-144.915088</td>\n",
       "    </tr>\n",
       "    <tr>\n",
       "      <th>52</th>\n",
       "      <td>San Antonio</td>\n",
       "      <td>-123.712715</td>\n",
       "    </tr>\n",
       "    <tr>\n",
       "      <th>420</th>\n",
       "      <td>Yuma</td>\n",
       "      <td>-116.497725</td>\n",
       "    </tr>\n",
       "    <tr>\n",
       "      <th>206</th>\n",
       "      <td>Pueblo</td>\n",
       "      <td>-112.621487</td>\n",
       "    </tr>\n",
       "    <tr>\n",
       "      <th>489</th>\n",
       "      <td>Normal</td>\n",
       "      <td>-110.023200</td>\n",
       "    </tr>\n",
       "    <tr>\n",
       "      <th>179</th>\n",
       "      <td>Rockford</td>\n",
       "      <td>-104.500709</td>\n",
       "    </tr>\n",
       "    <tr>\n",
       "      <th>293</th>\n",
       "      <td>Littleton</td>\n",
       "      <td>-98.801800</td>\n",
       "    </tr>\n",
       "    <tr>\n",
       "      <th>139</th>\n",
       "      <td>Tyler</td>\n",
       "      <td>-88.741720</td>\n",
       "    </tr>\n",
       "    <tr>\n",
       "      <th>76</th>\n",
       "      <td>Tamarac</td>\n",
       "      <td>-87.974025</td>\n",
       "    </tr>\n",
       "    <tr>\n",
       "      <th>435</th>\n",
       "      <td>Waco</td>\n",
       "      <td>-86.683900</td>\n",
       "    </tr>\n",
       "    <tr>\n",
       "      <th>111</th>\n",
       "      <td>Park Ridge</td>\n",
       "      <td>-79.483333</td>\n",
       "    </tr>\n",
       "    <tr>\n",
       "      <th>160</th>\n",
       "      <td>Lorain</td>\n",
       "      <td>-70.324767</td>\n",
       "    </tr>\n",
       "    <tr>\n",
       "      <th>202</th>\n",
       "      <td>Greenville</td>\n",
       "      <td>-60.998711</td>\n",
       "    </tr>\n",
       "  </tbody>\n",
       "</table>\n",
       "</div>"
      ],
      "text/plain": [
       "            city      Profit\n",
       "437    Bethlehem -200.619160\n",
       "378    Champaign -182.352000\n",
       "524       Oswego -178.709200\n",
       "171   Round Rock -169.061614\n",
       "152    Lancaster -157.371052\n",
       "300  Clarksville -150.764743\n",
       "64        Medina -149.227178\n",
       "140   Burlington -144.915088\n",
       "52   San Antonio -123.712715\n",
       "420         Yuma -116.497725\n",
       "206       Pueblo -112.621487\n",
       "489       Normal -110.023200\n",
       "179     Rockford -104.500709\n",
       "293    Littleton  -98.801800\n",
       "139        Tyler  -88.741720\n",
       "76       Tamarac  -87.974025\n",
       "435         Waco  -86.683900\n",
       "111   Park Ridge  -79.483333\n",
       "160       Lorain  -70.324767\n",
       "202   Greenville  -60.998711"
      ]
     },
     "execution_count": 140,
     "metadata": {},
     "output_type": "execute_result"
    }
   ],
   "source": [
    "df_prof.sort_values(by=['Profit'], ascending=True, inplace=True)\n",
    "df_prof.head(20) #Top 20 Most Loss Yielding cities on average"
   ]
  },
  {
   "cell_type": "code",
   "execution_count": 141,
   "id": "91c6ece6",
   "metadata": {},
   "outputs": [],
   "source": [
    "#5. Top 20 profit and loss generating states"
   ]
  },
  {
   "cell_type": "code",
   "execution_count": 142,
   "id": "a9f8d82a",
   "metadata": {},
   "outputs": [
    {
     "name": "stdout",
     "output_type": "stream",
     "text": [
      "Number of States with Positive Profit: 39\n",
      "Number of States with Negative Profit: 10\n",
      "\n",
      "Percentage of States with Positive Profit: 79.59%\n",
      "Percentage of States with Negative Profit: 20.41%\n",
      "\n"
     ]
    },
    {
     "data": {
      "text/plain": [
       "'Mean profit of Florida is -8.88'"
      ]
     },
     "execution_count": 142,
     "metadata": {},
     "output_type": "execute_result"
    }
   ],
   "source": [
    "neg_prof = []\n",
    "pos_prof = []\n",
    "states_prof = dict()\n",
    "\n",
    "for state in df['State'].unique():\n",
    "    # considering the average profit of all the instances of the city\n",
    "    mean_prof = df['Profit'][df['State'] == state].mean()\n",
    "    states_prof[state] = mean_prof\n",
    "    if mean_prof <= 0:\n",
    "        neg_prof.append(city)\n",
    "    else:\n",
    "        pos_prof.append(city)\n",
    "\n",
    "\n",
    "total_states = df['State'].unique().shape[0]\n",
    " \n",
    "print(f\"Number of States with Positive Profit: {len(pos_prof)}\")\n",
    "print(f\"Number of States with Negative Profit: {len(neg_prof)}\")\n",
    "print()\n",
    "print(f\"Percentage of States with Positive Profit: {round((len(pos_prof)/total_states)*100, 2)}%\")\n",
    "print(f\"Percentage of States with Negative Profit: {round((len(neg_prof)/total_states)*100, 2)}%\")\n",
    "print()\n",
    "\n",
    "def get_mean_profit_of_state(state):\n",
    "    for key, value in states_prof.items():\n",
    "        if key == state:\n",
    "            return f\"Mean profit of {key} is {round(value, 2)}\"\n",
    "    return f\"{state} is not found in the sales data!\"\n",
    "\n",
    "get_mean_profit_of_state(\"Florida\")\n",
    "\n",
    "#INFERECE: 79.59% of the States in the distribution chain had positive profit whereas 20.41% of the states returned negative profit\n"
   ]
  },
  {
   "cell_type": "code",
   "execution_count": 143,
   "id": "2da0e46c",
   "metadata": {},
   "outputs": [
    {
     "data": {
      "image/png": "[encoded data removed]",
      "text/plain": [
       "<Figure size 432x288 with 1 Axes>"
      ]
     },
     "metadata": {},
     "output_type": "display_data"
    }
   ],
   "source": [
    "plt.pie([round((len(pos_prof)/total_states)*100, 2), round((len(neg_prof)/total_states)*100, 2)], labels=['States with profit', 'States with loss'], autopct='%1.2f%%')\n",
    "plt.show()"
   ]
  },
  {
   "cell_type": "code",
   "execution_count": 144,
   "id": "02195e33",
   "metadata": {},
   "outputs": [
    {
     "data": {
      "text/html": [
       "<div>\n",
       "<style scoped>\n",
       "    .dataframe tbody tr th:only-of-type {\n",
       "        vertical-align: middle;\n",
       "    }\n",
       "\n",
       "    .dataframe tbody tr th {\n",
       "        vertical-align: top;\n",
       "    }\n",
       "\n",
       "    .dataframe thead th {\n",
       "        text-align: right;\n",
       "    }\n",
       "</style>\n",
       "<table border=\"1\" class=\"dataframe\">\n",
       "  <thead>\n",
       "    <tr style=\"text-align: right;\">\n",
       "      <th></th>\n",
       "      <th>State</th>\n",
       "      <th>Profit</th>\n",
       "    </tr>\n",
       "  </thead>\n",
       "  <tbody>\n",
       "    <tr>\n",
       "      <th>42</th>\n",
       "      <td>Vermont</td>\n",
       "      <td>204.09</td>\n",
       "    </tr>\n",
       "    <tr>\n",
       "      <th>34</th>\n",
       "      <td>Rhode Island</td>\n",
       "      <td>130.10</td>\n",
       "    </tr>\n",
       "    <tr>\n",
       "      <th>14</th>\n",
       "      <td>Indiana</td>\n",
       "      <td>123.38</td>\n",
       "    </tr>\n",
       "    <tr>\n",
       "      <th>37</th>\n",
       "      <td>Montana</td>\n",
       "      <td>122.22</td>\n",
       "    </tr>\n",
       "    <tr>\n",
       "      <th>11</th>\n",
       "      <td>Minnesota</td>\n",
       "      <td>121.61</td>\n",
       "    </tr>\n",
       "    <tr>\n",
       "      <th>40</th>\n",
       "      <td>District of Columbia</td>\n",
       "      <td>105.96</td>\n",
       "    </tr>\n",
       "    <tr>\n",
       "      <th>13</th>\n",
       "      <td>Delaware</td>\n",
       "      <td>103.93</td>\n",
       "    </tr>\n",
       "    <tr>\n",
       "      <th>47</th>\n",
       "      <td>Wyoming</td>\n",
       "      <td>100.20</td>\n",
       "    </tr>\n",
       "    <tr>\n",
       "      <th>25</th>\n",
       "      <td>Missouri</td>\n",
       "      <td>97.52</td>\n",
       "    </tr>\n",
       "    <tr>\n",
       "      <th>12</th>\n",
       "      <td>Michigan</td>\n",
       "      <td>95.93</td>\n",
       "    </tr>\n",
       "    <tr>\n",
       "      <th>19</th>\n",
       "      <td>Alabama</td>\n",
       "      <td>94.87</td>\n",
       "    </tr>\n",
       "    <tr>\n",
       "      <th>32</th>\n",
       "      <td>Georgia</td>\n",
       "      <td>88.32</td>\n",
       "    </tr>\n",
       "    <tr>\n",
       "      <th>33</th>\n",
       "      <td>Nevada</td>\n",
       "      <td>85.05</td>\n",
       "    </tr>\n",
       "    <tr>\n",
       "      <th>17</th>\n",
       "      <td>Virginia</td>\n",
       "      <td>83.03</td>\n",
       "    </tr>\n",
       "    <tr>\n",
       "      <th>0</th>\n",
       "      <td>Kentucky</td>\n",
       "      <td>80.57</td>\n",
       "    </tr>\n",
       "    <tr>\n",
       "      <th>6</th>\n",
       "      <td>Wisconsin</td>\n",
       "      <td>76.38</td>\n",
       "    </tr>\n",
       "    <tr>\n",
       "      <th>30</th>\n",
       "      <td>New Jersey</td>\n",
       "      <td>75.18</td>\n",
       "    </tr>\n",
       "    <tr>\n",
       "      <th>26</th>\n",
       "      <td>Oklahoma</td>\n",
       "      <td>73.54</td>\n",
       "    </tr>\n",
       "    <tr>\n",
       "      <th>39</th>\n",
       "      <td>Maryland</td>\n",
       "      <td>66.96</td>\n",
       "    </tr>\n",
       "    <tr>\n",
       "      <th>36</th>\n",
       "      <td>Arkansas</td>\n",
       "      <td>66.81</td>\n",
       "    </tr>\n",
       "  </tbody>\n",
       "</table>\n",
       "</div>"
      ],
      "text/plain": [
       "                   State  Profit\n",
       "42               Vermont  204.09\n",
       "34          Rhode Island  130.10\n",
       "14               Indiana  123.38\n",
       "37               Montana  122.22\n",
       "11             Minnesota  121.61\n",
       "40  District of Columbia  105.96\n",
       "13              Delaware  103.93\n",
       "47               Wyoming  100.20\n",
       "25              Missouri   97.52\n",
       "12              Michigan   95.93\n",
       "19               Alabama   94.87\n",
       "32               Georgia   88.32\n",
       "33                Nevada   85.05\n",
       "17              Virginia   83.03\n",
       "0               Kentucky   80.57\n",
       "6              Wisconsin   76.38\n",
       "30            New Jersey   75.18\n",
       "26              Oklahoma   73.54\n",
       "39              Maryland   66.96\n",
       "36              Arkansas   66.81"
      ]
     },
     "execution_count": 144,
     "metadata": {},
     "output_type": "execute_result"
    }
   ],
   "source": [
    "df_prof = pd.DataFrame(list(states_prof.items()), columns=['State','Profit'])\n",
    "df_prof.sort_values(by=['Profit'], ascending=False, inplace=True)\n",
    "round(df_prof.head(20), 2) #Top 20 Most profitable states based on average"
   ]
  },
  {
   "cell_type": "code",
   "execution_count": 145,
   "id": "eaf2de68",
   "metadata": {},
   "outputs": [
    {
     "data": {
      "image/png": "[encoded data removed]",
      "text/plain": [
       "<Figure size 432x288 with 1 Axes>"
      ]
     },
     "metadata": {
      "needs_background": "light"
     },
     "output_type": "display_data"
    },
    {
     "data": {
      "text/plain": [
       "<Figure size 3000x2400 with 0 Axes>"
      ]
     },
     "metadata": {},
     "output_type": "display_data"
    }
   ],
   "source": [
    "plt.barh(df_prof['State'].head(20), df_prof['Profit'].head(20))\n",
    "plt.title('States with highest Average Profits')\n",
    "plt.xlabel('Average Sales Figures')\n",
    "plt.figure(figsize=(10,8), dpi=300)\n",
    "plt.show()"
   ]
  },
  {
   "cell_type": "code",
   "execution_count": 146,
   "id": "734563b1",
   "metadata": {},
   "outputs": [
    {
     "data": {
      "text/html": [
       "<div>\n",
       "<style scoped>\n",
       "    .dataframe tbody tr th:only-of-type {\n",
       "        vertical-align: middle;\n",
       "    }\n",
       "\n",
       "    .dataframe tbody tr th {\n",
       "        vertical-align: top;\n",
       "    }\n",
       "\n",
       "    .dataframe thead th {\n",
       "        text-align: right;\n",
       "    }\n",
       "</style>\n",
       "<table border=\"1\" class=\"dataframe\">\n",
       "  <thead>\n",
       "    <tr style=\"text-align: right;\">\n",
       "      <th></th>\n",
       "      <th>State</th>\n",
       "      <th>Profit</th>\n",
       "    </tr>\n",
       "  </thead>\n",
       "  <tbody>\n",
       "    <tr>\n",
       "      <th>2</th>\n",
       "      <td>Florida</td>\n",
       "      <td>-8.875461</td>\n",
       "    </tr>\n",
       "    <tr>\n",
       "      <th>21</th>\n",
       "      <td>Oregon</td>\n",
       "      <td>-9.600569</td>\n",
       "    </tr>\n",
       "    <tr>\n",
       "      <th>16</th>\n",
       "      <td>Arizona</td>\n",
       "      <td>-15.303235</td>\n",
       "    </tr>\n",
       "    <tr>\n",
       "      <th>10</th>\n",
       "      <td>Illinois</td>\n",
       "      <td>-25.625787</td>\n",
       "    </tr>\n",
       "    <tr>\n",
       "      <th>5</th>\n",
       "      <td>Texas</td>\n",
       "      <td>-26.121174</td>\n",
       "    </tr>\n",
       "    <tr>\n",
       "      <th>9</th>\n",
       "      <td>Pennsylvania</td>\n",
       "      <td>-26.507598</td>\n",
       "    </tr>\n",
       "    <tr>\n",
       "      <th>18</th>\n",
       "      <td>Tennessee</td>\n",
       "      <td>-29.189583</td>\n",
       "    </tr>\n",
       "    <tr>\n",
       "      <th>3</th>\n",
       "      <td>North Carolina</td>\n",
       "      <td>-30.083985</td>\n",
       "    </tr>\n",
       "    <tr>\n",
       "      <th>22</th>\n",
       "      <td>Colorado</td>\n",
       "      <td>-35.867351</td>\n",
       "    </tr>\n",
       "    <tr>\n",
       "      <th>24</th>\n",
       "      <td>Ohio</td>\n",
       "      <td>-36.186304</td>\n",
       "    </tr>\n",
       "  </tbody>\n",
       "</table>\n",
       "</div>"
      ],
      "text/plain": [
       "             State     Profit\n",
       "2          Florida  -8.875461\n",
       "21          Oregon  -9.600569\n",
       "16         Arizona -15.303235\n",
       "10        Illinois -25.625787\n",
       "5            Texas -26.121174\n",
       "9     Pennsylvania -26.507598\n",
       "18       Tennessee -29.189583\n",
       "3   North Carolina -30.083985\n",
       "22        Colorado -35.867351\n",
       "24            Ohio -36.186304"
      ]
     },
     "execution_count": 146,
     "metadata": {},
     "output_type": "execute_result"
    }
   ],
   "source": [
    "df_prof = df_prof[df_prof['Profit']<=0]\n",
    "df_prof.sort_values(by=['Profit'], ascending=False, inplace=True)\n",
    "df_prof.head(20) #Top 10 least loss yielding states on average"
   ]
  },
  {
   "cell_type": "code",
   "execution_count": 147,
   "id": "9c3682e5",
   "metadata": {},
   "outputs": [
    {
     "data": {
      "image/png": "[encoded data removed]",
      "text/plain": [
       "<Figure size 432x288 with 1 Axes>"
      ]
     },
     "metadata": {
      "needs_background": "light"
     },
     "output_type": "display_data"
    },
    {
     "data": {
      "text/plain": [
       "<Figure size 720x576 with 0 Axes>"
      ]
     },
     "metadata": {},
     "output_type": "display_data"
    }
   ],
   "source": [
    "plt.barh(df_prof['State'].head(20), df_prof['Profit'].head(20))\n",
    "plt.title('States with highest Average Loss')\n",
    "plt.xlabel('Average Sales Figures')\n",
    "plt.figure(figsize=(10,8))\n",
    "plt.show()"
   ]
  },
  {
   "cell_type": "code",
   "execution_count": 149,
   "id": "345c0ac1",
   "metadata": {},
   "outputs": [],
   "source": [
    "#6. Find which category of items are sold the most from the inventory"
   ]
  },
  {
   "cell_type": "code",
   "execution_count": 201,
   "id": "281aa160",
   "metadata": {},
   "outputs": [
    {
     "data": {
      "text/plain": [
       "Category\n",
       "Furniture          2121\n",
       "Office Supplies    6026\n",
       "Technology         1847\n",
       "Name: Sales, dtype: int64"
      ]
     },
     "execution_count": 201,
     "metadata": {},
     "output_type": "execute_result"
    }
   ],
   "source": [
    "cat_gs = df.groupby('Category').count()['Sales']\n",
    "cat_gs"
   ]
  },
  {
   "cell_type": "code",
   "execution_count": 196,
   "id": "e9fcd385",
   "metadata": {},
   "outputs": [
    {
     "data": {
      "image/png": "[encoded data removed]",
      "text/plain": [
       "<Figure size 432x288 with 1 Axes>"
      ]
     },
     "metadata": {
      "needs_background": "light"
     },
     "output_type": "display_data"
    }
   ],
   "source": [
    "cat_g.plot(kind='bar')\n",
    "plt.xticks(rotation=360)\n",
    "plt.show()"
   ]
  },
  {
   "cell_type": "code",
   "execution_count": 216,
   "id": "b706778a",
   "metadata": {},
   "outputs": [
    {
     "data": {
      "text/plain": [
       "Category\n",
       "Furniture           8.699327\n",
       "Office Supplies    20.327050\n",
       "Technology         78.752002\n",
       "Name: Profit, dtype: float64"
      ]
     },
     "execution_count": 216,
     "metadata": {},
     "output_type": "execute_result"
    }
   ],
   "source": [
    "cat_gp = df.groupby('Category')['Profit'].mean()\n",
    "cat_gp"
   ]
  },
  {
   "cell_type": "code",
   "execution_count": 200,
   "id": "074882c5",
   "metadata": {},
   "outputs": [
    {
     "data": {
      "image/png": "[encoded data removed]",
      "text/plain": [
       "<Figure size 432x288 with 1 Axes>"
      ]
     },
     "metadata": {
      "needs_background": "light"
     },
     "output_type": "display_data"
    }
   ],
   "source": [
    "round(cat_g, 2).plot(kind='bar')\n",
    "plt.xticks(rotation=360)\n",
    "plt.show()"
   ]
  },
  {
   "cell_type": "code",
   "execution_count": 215,
   "id": "d77d5a86",
   "metadata": {},
   "outputs": [
    {
     "ename": "KeyError",
     "evalue": "\"None of [Index(['Furniture', 'Office Supplies', 'Technology'], dtype='object')] are in the [columns]\"",
     "output_type": "error",
     "traceback": [
      "\u001b[0;31m---------------------------------------------------------------------------\u001b[0m",
      "\u001b[0;31mKeyError\u001b[0m                                  Traceback (most recent call last)",
      "Input \u001b[0;32mIn [215]\u001b[0m, in \u001b[0;36m<cell line: 1>\u001b[0;34m()\u001b[0m\n\u001b[0;32m----> 1\u001b[0m \u001b[43mdf\u001b[49m\u001b[38;5;241;43m.\u001b[39;49m\u001b[43mplot\u001b[49m\u001b[43m(\u001b[49m\u001b[43mx\u001b[49m\u001b[43m \u001b[49m\u001b[38;5;241;43m=\u001b[39;49m\u001b[43m \u001b[49m\u001b[43mdf\u001b[49m\u001b[43m[\u001b[49m\u001b[38;5;124;43m'\u001b[39;49m\u001b[38;5;124;43mCategory\u001b[39;49m\u001b[38;5;124;43m'\u001b[39;49m\u001b[43m]\u001b[49m\u001b[38;5;241;43m.\u001b[39;49m\u001b[43munique\u001b[49m\u001b[43m(\u001b[49m\u001b[43m)\u001b[49m\u001b[43m,\u001b[49m\u001b[43my\u001b[49m\u001b[38;5;241;43m=\u001b[39;49m\u001b[43m[\u001b[49m\u001b[43mdf\u001b[49m\u001b[43m[\u001b[49m\u001b[38;5;124;43m'\u001b[39;49m\u001b[38;5;124;43mSales\u001b[39;49m\u001b[38;5;124;43m'\u001b[39;49m\u001b[43m]\u001b[49m\u001b[38;5;241;43m.\u001b[39;49m\u001b[43mvalue_counts\u001b[49m\u001b[43m(\u001b[49m\u001b[43m)\u001b[49m\u001b[43m,\u001b[49m\u001b[43m \u001b[49m\u001b[43mdf\u001b[49m\u001b[43m[\u001b[49m\u001b[38;5;124;43m'\u001b[39;49m\u001b[38;5;124;43mProfit\u001b[39;49m\u001b[38;5;124;43m'\u001b[39;49m\u001b[43m]\u001b[49m\u001b[38;5;241;43m.\u001b[39;49m\u001b[43mmean\u001b[49m\u001b[43m(\u001b[49m\u001b[43m)\u001b[49m\u001b[43m]\u001b[49m\u001b[43m)\u001b[49m\n",
      "File \u001b[0;32m/mnt/01D76E55853AAE90/py-projects/data-science/sales-data/venv/lib/python3.10/site-packages/pandas/plotting/_core.py:937\u001b[0m, in \u001b[0;36mPlotAccessor.__call__\u001b[0;34m(self, *args, **kwargs)\u001b[0m\n\u001b[1;32m    935\u001b[0m \u001b[38;5;28;01mif\u001b[39;00m is_integer(x) \u001b[38;5;129;01mand\u001b[39;00m \u001b[38;5;129;01mnot\u001b[39;00m data\u001b[38;5;241m.\u001b[39mcolumns\u001b[38;5;241m.\u001b[39mholds_integer():\n\u001b[1;32m    936\u001b[0m     x \u001b[38;5;241m=\u001b[39m data_cols[x]\n\u001b[0;32m--> 937\u001b[0m \u001b[38;5;28;01melif\u001b[39;00m \u001b[38;5;129;01mnot\u001b[39;00m \u001b[38;5;28misinstance\u001b[39m(\u001b[43mdata\u001b[49m\u001b[43m[\u001b[49m\u001b[43mx\u001b[49m\u001b[43m]\u001b[49m, ABCSeries):\n\u001b[1;32m    938\u001b[0m     \u001b[38;5;28;01mraise\u001b[39;00m \u001b[38;5;167;01mValueError\u001b[39;00m(\u001b[38;5;124m\"\u001b[39m\u001b[38;5;124mx must be a label or position\u001b[39m\u001b[38;5;124m\"\u001b[39m)\n\u001b[1;32m    939\u001b[0m data \u001b[38;5;241m=\u001b[39m data\u001b[38;5;241m.\u001b[39mset_index(x)\n",
      "File \u001b[0;32m/mnt/01D76E55853AAE90/py-projects/data-science/sales-data/venv/lib/python3.10/site-packages/pandas/core/frame.py:3511\u001b[0m, in \u001b[0;36mDataFrame.__getitem__\u001b[0;34m(self, key)\u001b[0m\n\u001b[1;32m   3509\u001b[0m     \u001b[38;5;28;01mif\u001b[39;00m is_iterator(key):\n\u001b[1;32m   3510\u001b[0m         key \u001b[38;5;241m=\u001b[39m \u001b[38;5;28mlist\u001b[39m(key)\n\u001b[0;32m-> 3511\u001b[0m     indexer \u001b[38;5;241m=\u001b[39m \u001b[38;5;28;43mself\u001b[39;49m\u001b[38;5;241;43m.\u001b[39;49m\u001b[43mcolumns\u001b[49m\u001b[38;5;241;43m.\u001b[39;49m\u001b[43m_get_indexer_strict\u001b[49m\u001b[43m(\u001b[49m\u001b[43mkey\u001b[49m\u001b[43m,\u001b[49m\u001b[43m \u001b[49m\u001b[38;5;124;43m\"\u001b[39;49m\u001b[38;5;124;43mcolumns\u001b[39;49m\u001b[38;5;124;43m\"\u001b[39;49m\u001b[43m)\u001b[49m[\u001b[38;5;241m1\u001b[39m]\n\u001b[1;32m   3513\u001b[0m \u001b[38;5;66;03m# take() does not accept boolean indexers\u001b[39;00m\n\u001b[1;32m   3514\u001b[0m \u001b[38;5;28;01mif\u001b[39;00m \u001b[38;5;28mgetattr\u001b[39m(indexer, \u001b[38;5;124m\"\u001b[39m\u001b[38;5;124mdtype\u001b[39m\u001b[38;5;124m\"\u001b[39m, \u001b[38;5;28;01mNone\u001b[39;00m) \u001b[38;5;241m==\u001b[39m \u001b[38;5;28mbool\u001b[39m:\n",
      "File \u001b[0;32m/mnt/01D76E55853AAE90/py-projects/data-science/sales-data/venv/lib/python3.10/site-packages/pandas/core/indexes/base.py:5782\u001b[0m, in \u001b[0;36mIndex._get_indexer_strict\u001b[0;34m(self, key, axis_name)\u001b[0m\n\u001b[1;32m   5779\u001b[0m \u001b[38;5;28;01melse\u001b[39;00m:\n\u001b[1;32m   5780\u001b[0m     keyarr, indexer, new_indexer \u001b[38;5;241m=\u001b[39m \u001b[38;5;28mself\u001b[39m\u001b[38;5;241m.\u001b[39m_reindex_non_unique(keyarr)\n\u001b[0;32m-> 5782\u001b[0m \u001b[38;5;28;43mself\u001b[39;49m\u001b[38;5;241;43m.\u001b[39;49m\u001b[43m_raise_if_missing\u001b[49m\u001b[43m(\u001b[49m\u001b[43mkeyarr\u001b[49m\u001b[43m,\u001b[49m\u001b[43m \u001b[49m\u001b[43mindexer\u001b[49m\u001b[43m,\u001b[49m\u001b[43m \u001b[49m\u001b[43maxis_name\u001b[49m\u001b[43m)\u001b[49m\n\u001b[1;32m   5784\u001b[0m keyarr \u001b[38;5;241m=\u001b[39m \u001b[38;5;28mself\u001b[39m\u001b[38;5;241m.\u001b[39mtake(indexer)\n\u001b[1;32m   5785\u001b[0m \u001b[38;5;28;01mif\u001b[39;00m \u001b[38;5;28misinstance\u001b[39m(key, Index):\n\u001b[1;32m   5786\u001b[0m     \u001b[38;5;66;03m# GH 42790 - Preserve name from an Index\u001b[39;00m\n",
      "File \u001b[0;32m/mnt/01D76E55853AAE90/py-projects/data-science/sales-data/venv/lib/python3.10/site-packages/pandas/core/indexes/base.py:5842\u001b[0m, in \u001b[0;36mIndex._raise_if_missing\u001b[0;34m(self, key, indexer, axis_name)\u001b[0m\n\u001b[1;32m   5840\u001b[0m     \u001b[38;5;28;01mif\u001b[39;00m use_interval_msg:\n\u001b[1;32m   5841\u001b[0m         key \u001b[38;5;241m=\u001b[39m \u001b[38;5;28mlist\u001b[39m(key)\n\u001b[0;32m-> 5842\u001b[0m     \u001b[38;5;28;01mraise\u001b[39;00m \u001b[38;5;167;01mKeyError\u001b[39;00m(\u001b[38;5;124mf\u001b[39m\u001b[38;5;124m\"\u001b[39m\u001b[38;5;124mNone of [\u001b[39m\u001b[38;5;132;01m{\u001b[39;00mkey\u001b[38;5;132;01m}\u001b[39;00m\u001b[38;5;124m] are in the [\u001b[39m\u001b[38;5;132;01m{\u001b[39;00maxis_name\u001b[38;5;132;01m}\u001b[39;00m\u001b[38;5;124m]\u001b[39m\u001b[38;5;124m\"\u001b[39m)\n\u001b[1;32m   5844\u001b[0m not_found \u001b[38;5;241m=\u001b[39m \u001b[38;5;28mlist\u001b[39m(ensure_index(key)[missing_mask\u001b[38;5;241m.\u001b[39mnonzero()[\u001b[38;5;241m0\u001b[39m]]\u001b[38;5;241m.\u001b[39munique())\n\u001b[1;32m   5845\u001b[0m \u001b[38;5;28;01mraise\u001b[39;00m \u001b[38;5;167;01mKeyError\u001b[39;00m(\u001b[38;5;124mf\u001b[39m\u001b[38;5;124m\"\u001b[39m\u001b[38;5;132;01m{\u001b[39;00mnot_found\u001b[38;5;132;01m}\u001b[39;00m\u001b[38;5;124m not in index\u001b[39m\u001b[38;5;124m\"\u001b[39m)\n",
      "\u001b[0;31mKeyError\u001b[0m: \"None of [Index(['Furniture', 'Office Supplies', 'Technology'], dtype='object')] are in the [columns]\""
     ]
    }
   ],
   "source": [
    "df.plot(x = df['Category'].unique(),y=[df['Sales'].value_counts(), df['Profit'].mean()])\n",
    "# plt.show()\n"
   ]
  },
  {
   "cell_type": "code",
   "execution_count": 152,
   "id": "efe85328",
   "metadata": {},
   "outputs": [],
   "source": [
    "#INFERENCE: Products in \"Technology Category\" are sold \"less in number buy yields more profit\" in comparison to other product categories"
   ]
  },
  {
   "cell_type": "code",
   "execution_count": 153,
   "id": "525053f3",
   "metadata": {},
   "outputs": [],
   "source": [
    "#7. Which type of shipping is commonly used and how it impacts profit"
   ]
  },
  {
   "cell_type": "code",
   "execution_count": 154,
   "id": "7db14846",
   "metadata": {},
   "outputs": [
    {
     "data": {
      "text/plain": [
       "Ship Mode\n",
       "First Class       1538\n",
       "Same Day           543\n",
       "Second Class      1945\n",
       "Standard Class    5968\n",
       "Name: Sales, dtype: int64"
      ]
     },
     "execution_count": 154,
     "metadata": {},
     "output_type": "execute_result"
    }
   ],
   "source": [
    "ship_g = df.groupby(\"Ship Mode\").count()['Sales']\n",
    "ship_g"
   ]
  },
  {
   "cell_type": "code",
   "execution_count": 155,
   "id": "3c8944cf",
   "metadata": {},
   "outputs": [
    {
     "data": {
      "text/plain": [
       "Ship Mode\n",
       "First Class       31.84\n",
       "Same Day          29.27\n",
       "Second Class      29.54\n",
       "Standard Class    27.49\n",
       "Name: Profit, dtype: float64"
      ]
     },
     "execution_count": 155,
     "metadata": {},
     "output_type": "execute_result"
    }
   ],
   "source": [
    "ship_g = df.groupby('Ship Mode')['Profit'].mean()\n",
    "round(ship_g, 2)\n",
    "\n",
    "#INFERENCE: \"Standard class\" is the most preferred shipping mode, but the method of shipment has no significant impact in the profit"
   ]
  },
  {
   "cell_type": "code",
   "execution_count": 156,
   "id": "9fd4cb2c",
   "metadata": {},
   "outputs": [],
   "source": [
    "#8. Find which segment corresponds to more sales and profit"
   ]
  },
  {
   "cell_type": "code",
   "execution_count": 157,
   "id": "263bcbbe",
   "metadata": {},
   "outputs": [
    {
     "data": {
      "text/plain": [
       "Segment\n",
       "Consumer       5191\n",
       "Corporate      3020\n",
       "Home Office    1783\n",
       "Name: Sales, dtype: int64"
      ]
     },
     "execution_count": 157,
     "metadata": {},
     "output_type": "execute_result"
    }
   ],
   "source": [
    "df.groupby('Segment').count()['Sales']"
   ]
  },
  {
   "cell_type": "code",
   "execution_count": 158,
   "id": "fd32dd80",
   "metadata": {},
   "outputs": [
    {
     "data": {
      "text/plain": [
       "Segment\n",
       "Consumer       25.84\n",
       "Corporate      30.46\n",
       "Home Office    33.82\n",
       "Name: Profit, dtype: float64"
      ]
     },
     "execution_count": 158,
     "metadata": {},
     "output_type": "execute_result"
    }
   ],
   "source": [
    "round(df.groupby('Segment')['Profit'].mean(), 2)\n",
    "\n",
    "#INFERENCE: There is a \"Negative Relation\" w.r.t segment sales and profit\n",
    "# \"Home Office\" segment products sells very less but generates more profit compared to \n",
    "# \"Consumer\" segment that sells more products but generates lesser profit."
   ]
  },
  {
   "cell_type": "code",
   "execution_count": 159,
   "id": "069c0f13",
   "metadata": {},
   "outputs": [],
   "source": [
    "#9. Which Region corresponds to more sales and profit"
   ]
  },
  {
   "cell_type": "code",
   "execution_count": 160,
   "id": "fecccf6d",
   "metadata": {},
   "outputs": [
    {
     "data": {
      "text/plain": [
       "Region\n",
       "Central    2323\n",
       "East       2848\n",
       "South      1620\n",
       "West       3203\n",
       "Name: Sales, dtype: int64"
      ]
     },
     "execution_count": 160,
     "metadata": {},
     "output_type": "execute_result"
    }
   ],
   "source": [
    "df.groupby('Region').count()['Sales']"
   ]
  },
  {
   "cell_type": "code",
   "execution_count": 161,
   "id": "df34fad3",
   "metadata": {},
   "outputs": [
    {
     "data": {
      "text/plain": [
       "Region\n",
       "Central     39706.36\n",
       "East        91522.78\n",
       "South       46749.43\n",
       "West       108418.45\n",
       "Name: Profit, dtype: float64"
      ]
     },
     "execution_count": 161,
     "metadata": {},
     "output_type": "execute_result"
    }
   ],
   "source": [
    "round(df.groupby('Region')['Profit'].sum(), 2)\n",
    "\n",
    "#INFERENCE: There is a \"Positive correlation\" observed in Region's sales and profit \n",
    "# West Region has higher sales with most profits whereas\n",
    "# East Region has lower sales with lesser profit"
   ]
  },
  {
   "cell_type": "code",
   "execution_count": 162,
   "id": "2e240329",
   "metadata": {},
   "outputs": [],
   "source": [
    "#10. Find which sub-category corresponds to more sales and profit"
   ]
  },
  {
   "cell_type": "code",
   "execution_count": 163,
   "id": "fd34bb9e",
   "metadata": {},
   "outputs": [
    {
     "data": {
      "text/plain": [
       "Sub-Category\n",
       "Binders        1523\n",
       "Paper          1370\n",
       "Furnishings     957\n",
       "Phones          889\n",
       "Storage         846\n",
       "Art             796\n",
       "Accessories     775\n",
       "Chairs          617\n",
       "Appliances      466\n",
       "Labels          364\n",
       "Tables          319\n",
       "Envelopes       254\n",
       "Bookcases       228\n",
       "Fasteners       217\n",
       "Supplies        190\n",
       "Machines        115\n",
       "Copiers          68\n",
       "Name: Sales, dtype: int64"
      ]
     },
     "execution_count": 163,
     "metadata": {},
     "output_type": "execute_result"
    }
   ],
   "source": [
    "df.groupby('Sub-Category').count().sort_values(by=['Sales'], ascending=False)['Sales']"
   ]
  },
  {
   "cell_type": "code",
   "execution_count": 164,
   "id": "048d75c8",
   "metadata": {},
   "outputs": [
    {
     "data": {
      "text/plain": [
       "Sub-Category\n",
       "Copiers        817.91\n",
       "Accessories     54.11\n",
       "Phones          50.07\n",
       "Chairs          43.10\n",
       "Appliances      38.92\n",
       "Machines        29.43\n",
       "Envelopes       27.42\n",
       "Storage         25.15\n",
       "Paper           24.86\n",
       "Binders         19.84\n",
       "Labels          15.24\n",
       "Furnishings     13.65\n",
       "Art              8.20\n",
       "Fasteners        4.38\n",
       "Supplies        -6.26\n",
       "Bookcases      -15.23\n",
       "Tables         -55.57\n",
       "Name: Profit, dtype: float64"
      ]
     },
     "execution_count": 164,
     "metadata": {},
     "output_type": "execute_result"
    }
   ],
   "source": [
    "round(df.groupby('Sub-Category').mean(), 2).sort_values(by=['Profit'], ascending=False)['Profit']\n",
    "\n",
    "#INFERENCE: \"Binders\" has more sales in terms of numbers whereas \"Copiers\" brings in more profit having the least sales\n",
    "#No relation can be established from sales and profit from product sub-categories"
   ]
  },
  {
   "cell_type": "code",
   "execution_count": 165,
   "id": "da9e4fd6",
   "metadata": {},
   "outputs": [],
   "source": [
    "#11. Does Quantity of purchase affect the sales operation and profit"
   ]
  },
  {
   "cell_type": "code",
   "execution_count": 166,
   "id": "e2bb58b4",
   "metadata": {},
   "outputs": [
    {
     "data": {
      "text/plain": [
       "Quantity\n",
       "3     2409\n",
       "2     2402\n",
       "5     1230\n",
       "4     1191\n",
       "1      899\n",
       "7      606\n",
       "6      572\n",
       "9      258\n",
       "8      257\n",
       "10      57\n",
       "11      34\n",
       "14      29\n",
       "13      27\n",
       "12      23\n",
       "Name: Sales, dtype: int64"
      ]
     },
     "execution_count": 166,
     "metadata": {},
     "output_type": "execute_result"
    }
   ],
   "source": [
    "df.groupby('Quantity').count().sort_values(by=['Sales'], ascending=False)['Sales']"
   ]
  },
  {
   "cell_type": "code",
   "execution_count": 167,
   "id": "bb616cc6",
   "metadata": {},
   "outputs": [
    {
     "data": {
      "text/plain": [
       "Quantity\n",
       "13    235.14\n",
       "11    126.28\n",
       "14     93.93\n",
       "9      68.56\n",
       "7      56.58\n",
       "12     51.52\n",
       "8      42.24\n",
       "5      40.26\n",
       "4      37.13\n",
       "10     35.86\n",
       "3      23.67\n",
       "6      18.05\n",
       "2      16.01\n",
       "1       8.28\n",
       "Name: Profit, dtype: float64"
      ]
     },
     "execution_count": 167,
     "metadata": {},
     "output_type": "execute_result"
    }
   ],
   "source": [
    "round(df.groupby('Quantity').mean(), 2).sort_values(by=['Profit'], ascending=False)['Profit']\n",
    "\n",
    "#INFERENCE: Quantity of \"2 and 3\" has more number in sales whereas \"13 and 11\" has higher profits\n",
    "#There is a \"overall Positive Correlation\" between quantity of purchase and profits "
   ]
  },
  {
   "cell_type": "code",
   "execution_count": 168,
   "id": "4bcbd31b",
   "metadata": {},
   "outputs": [],
   "source": [
    "#12. Impact of Discount in Sales and profit"
   ]
  },
  {
   "cell_type": "code",
   "execution_count": 169,
   "id": "e0a766c5",
   "metadata": {},
   "outputs": [
    {
     "data": {
      "text/plain": [
       "Discount\n",
       "0.00    4798\n",
       "0.20    3657\n",
       "0.70     418\n",
       "0.80     300\n",
       "0.30     227\n",
       "0.40     206\n",
       "0.60     138\n",
       "0.10      94\n",
       "0.50      66\n",
       "0.15      52\n",
       "0.32      27\n",
       "0.45      11\n",
       "Name: Sales, dtype: int64"
      ]
     },
     "execution_count": 169,
     "metadata": {},
     "output_type": "execute_result"
    }
   ],
   "source": [
    "df.groupby('Discount').count().sort_values(by=['Sales'], ascending=False)['Sales']"
   ]
  },
  {
   "cell_type": "code",
   "execution_count": 170,
   "id": "ed655e68",
   "metadata": {},
   "outputs": [
    {
     "data": {
      "text/plain": [
       "Discount\n",
       "0.10     96.06\n",
       "0.00     66.90\n",
       "0.15     27.29\n",
       "0.20     24.70\n",
       "0.60    -43.08\n",
       "0.30    -45.68\n",
       "0.32    -88.56\n",
       "0.70    -95.87\n",
       "0.80   -101.80\n",
       "0.40   -111.93\n",
       "0.45   -226.65\n",
       "0.50   -310.70\n",
       "Name: Profit, dtype: float64"
      ]
     },
     "execution_count": 170,
     "metadata": {},
     "output_type": "execute_result"
    }
   ],
   "source": [
    "round(df.groupby('Discount').mean(), 2).sort_values(by=['Profit'], ascending=False)['Profit']\n",
    "\n",
    "#INFERENCE: Products with \"No Discounts\" has higher sales and 2nd highest profits \n",
    "# Products with 10% discounts has highest profit with lesser sales\n",
    "# Higher discounts has comparatively similar sales numbers with 20+% discounts generates losses\n",
    "# There is a \"Overall Negative Correlation\" observed with profit and discount"
   ]
  },
  {
   "cell_type": "code",
   "execution_count": 171,
   "id": "383c62e5",
   "metadata": {},
   "outputs": [],
   "source": [
    "#13. Relationship between sales and profit"
   ]
  },
  {
   "cell_type": "code",
   "execution_count": 172,
   "id": "5d1a8f44",
   "metadata": {},
   "outputs": [
    {
     "data": {
      "image/png": "[encoded data removed]",
      "text/plain": [
       "<Figure size 432x288 with 1 Axes>"
      ]
     },
     "metadata": {
      "needs_background": "light"
     },
     "output_type": "display_data"
    }
   ],
   "source": [
    "plt.plot(df['Sales'], df['Profit'])\n",
    "plt.title('Sales vs Profit Relation')\n",
    "plt.xlabel('Sales')\n",
    "plt.ylabel('Profit')\n",
    "plt.show()\n",
    "\n",
    "#INFERENCE: There is no relation found between Sales and Profit "
   ]
  },
  {
   "cell_type": "code",
   "execution_count": 173,
   "id": "0c25c3e0",
   "metadata": {},
   "outputs": [],
   "source": [
    "df1 = df.loc[df['Region']=='Central']\n",
    "df2 = df.loc[df['Region']=='West']"
   ]
  },
  {
   "cell_type": "code",
   "execution_count": 174,
   "id": "dc4cea54",
   "metadata": {},
   "outputs": [
    {
     "data": {
      "text/plain": [
       "Discount\n",
       "0.00    1716\n",
       "0.20    1317\n",
       "0.70     100\n",
       "0.15      52\n",
       "0.50      18\n",
       "Name: Sales, dtype: int64"
      ]
     },
     "execution_count": 174,
     "metadata": {},
     "output_type": "execute_result"
    }
   ],
   "source": [
    "df2.groupby('Discount').count().sort_values(by=['Sales'], ascending=False)['Sales']"
   ]
  },
  {
   "cell_type": "code",
   "execution_count": 175,
   "id": "cc63953d",
   "metadata": {},
   "outputs": [
    {
     "data": {
      "text/plain": [
       "Discount\n",
       "0.00     44.58\n",
       "0.20     35.32\n",
       "0.15     27.29\n",
       "0.70   -117.09\n",
       "0.50   -239.20\n",
       "Name: Profit, dtype: float64"
      ]
     },
     "execution_count": 175,
     "metadata": {},
     "output_type": "execute_result"
    }
   ],
   "source": [
    "round(df2.groupby('Discount').mean(), 2).sort_values(by=['Profit'], ascending=False)['Profit']"
   ]
  },
  {
   "cell_type": "code",
   "execution_count": 176,
   "id": "bf0bb221",
   "metadata": {},
   "outputs": [
    {
     "data": {
      "text/plain": [
       "Discount\n",
       "0.20    834\n",
       "0.00    828\n",
       "0.80    300\n",
       "0.30    147\n",
       "0.60    138\n",
       "0.32     27\n",
       "0.10     18\n",
       "0.50     18\n",
       "0.40     13\n",
       "Name: Sales, dtype: int64"
      ]
     },
     "execution_count": 176,
     "metadata": {},
     "output_type": "execute_result"
    }
   ],
   "source": [
    "df1.groupby('Discount').count().sort_values(by=['Sales'], ascending=False)['Sales']"
   ]
  },
  {
   "cell_type": "code",
   "execution_count": 177,
   "id": "6993e6ad",
   "metadata": {},
   "outputs": [
    {
     "data": {
      "text/plain": [
       "Discount\n",
       "0.10    106.56\n",
       "0.00     91.94\n",
       "0.20     16.85\n",
       "0.60    -43.08\n",
       "0.30    -44.50\n",
       "0.32    -88.56\n",
       "0.80   -101.80\n",
       "0.40   -205.14\n",
       "0.50   -239.43\n",
       "Name: Profit, dtype: float64"
      ]
     },
     "execution_count": 177,
     "metadata": {},
     "output_type": "execute_result"
    }
   ],
   "source": [
    "round(df1.groupby('Discount').mean(), 2).sort_values(by=['Profit'], ascending=False)['Profit']"
   ]
  },
  {
   "cell_type": "code",
   "execution_count": null,
   "id": "62140c55",
   "metadata": {},
   "outputs": [],
   "source": []
  },
  {
   "cell_type": "code",
   "execution_count": 178,
   "id": "f7dfac12",
   "metadata": {},
   "outputs": [],
   "source": [
    "# INFERENCES FROM ABOVE ANALYSIS\n",
    "\n",
    "# 1. Product Disounts should be limited to 0% to 10%\n",
    "# 2. More focus should be provided to increase sales of category Technology\n",
    "# 3. More focus should be provided to increase sales of sub-category Copiers\n",
    "# 4. More focus should be provided to increase sales of Home Office Segment products for higher profits\n",
    "# 5. Increasing quantity of purchase increses profit generated\n",
    "# 6. There are 116 cities and 10 states that have generated loss, so sales operations could be reduced and focused more on profit generating areas\n",
    "# 7. Central Region has lesser profit compared to other region. "
   ]
  },
  {
   "cell_type": "code",
   "execution_count": null,
   "id": "c21fce5a",
   "metadata": {},
   "outputs": [],
   "source": []
  }
 ],
 "metadata": {
  "kernelspec": {
   "display_name": "venvkernel",
   "language": "python",
   "name": "venvkernel"
  },
  "language_info": {
   "codemirror_mode": {
    "name": "ipython",
    "version": 3
   },
   "file_extension": ".py",
   "mimetype": "text/x-python",
   "name": "python",
   "nbconvert_exporter": "python",
   "pygments_lexer": "ipython3",
   "version": "3.10.4"
  }
 },
 "nbformat": 4,
 "nbformat_minor": 5
}
